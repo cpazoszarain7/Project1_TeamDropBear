{
 "cells": [
  {
   "cell_type": "markdown",
   "metadata": {},
   "source": [
    "# Ho = Crime does not correlate with weather (T) and proximity to ice-cream shops! \n",
    "# Ha = Crime correlates with weather (T) and proximity to ice-cream shops!"
   ]
  },
  {
   "cell_type": "markdown",
   "metadata": {},
   "source": [
    "**ASSUMPTIONS:**\n",
    "1. Only considering crime in Atlanta for 2016\n",
    "2. Focusing on 5 different types of crime:\n",
    "    - LARCENY-FROM VEHICLE\n",
    "    - BURGLARY-RESIDENCE\n",
    "    - ROBBERY-PEDESTRIAN\n",
    "    - RAPE\n",
    "    - HOMICIDE\n",
    "3. We are focusing historical weather data including:\n",
    "    - AVERAGE TEMPERATURE\n",
    "    - HUMIDITY\n",
    "    - PRECIPITATION\n",
    "    - WIND SPEED\n",
    "    - CONDITIONS\n",
    "4. We are focusing on ice cream shopsusing Google API:\n",
    "    - Within a Radius of 1 Mile\n",
    "    - Business Types: Cafe, Restaurant, Drugstore\n",
    "    "
   ]
  },
  {
   "cell_type": "markdown",
   "metadata": {},
   "source": [
    "# Section 1: Import Libraries"
   ]
  },
  {
   "cell_type": "code",
   "execution_count": 1,
   "metadata": {},
   "outputs": [],
   "source": [
    "#Import Libraries\n",
    "import pandas as pd\n",
    "import numpy as np\n",
    "import matplotlib.pyplot as plt\n",
    "import requests\n",
    "import os\n",
    "import gmaps\n",
    "import scipy.stats as sts\n",
    "from pprint import pprint\n",
    "import warnings\n",
    "warnings.filterwarnings('ignore')\n",
    "%matplotlib inline"
   ]
  },
  {
   "cell_type": "markdown",
   "metadata": {},
   "source": [
    "# Section 2: Load Datasets"
   ]
  },
  {
   "cell_type": "code",
   "execution_count": 2,
   "metadata": {},
   "outputs": [],
   "source": [
    "# Load individual groups\n",
    "\n",
    "#1. LARCENY-FROM VEHICLE\n",
    "path = os.path.join('..','Resources','larceny2.csv')\n",
    "g1w = pd.read_csv(path)\n",
    "g1w.drop(['Unnamed: 0','Unnamed: 0.1','Unnamed: 0.1.1'],axis=1, inplace=True)\n",
    "\n",
    "#2. BURGLARY-RESIDENCE\n",
    "path = os.path.join('..','Resources','burglary2.csv')\n",
    "g2w = pd.read_csv(path)\n",
    "g2w.drop(['Unnamed: 0','Unnamed: 0.1','Unnamed: 0.1.1'],axis=1, inplace=True)\n",
    "\n",
    "#3. ROBBERY-PEDESTRIAN\n",
    "path = os.path.join('..','Resources','robbery2.csv')\n",
    "g3w = pd.read_csv(path)\n",
    "g3w.drop(['Unnamed: 0','Unnamed: 0.1','Unnamed: 0.1.1'],axis=1, inplace=True)\n",
    "\n",
    "#4. RAPE\n",
    "path = os.path.join('..','Resources','rape2.csv')\n",
    "g4w = pd.read_csv(path)\n",
    "g4w.drop(['Unnamed: 0','Unnamed: 0.1','Unnamed: 0.1.1'],axis=1, inplace=True)\n",
    "\n",
    "#5. HOMICIDE\n",
    "path = os.path.join('..','Resources','homicide2.csv')\n",
    "g5w = pd.read_csv(path)\n",
    "g5w.drop(['Unnamed: 0','Unnamed: 0.1','Unnamed: 0.1.1'],axis=1, inplace=True)"
   ]
  },
  {
   "cell_type": "code",
   "execution_count": 3,
   "metadata": {},
   "outputs": [],
   "source": [
    "#ANALYSIS FOR CRIME TYPE LARCENY-FROM VEHICLE\n",
    "#Divide into groups based on Crime Count\n",
    "#Low Crime\n",
    "g1 = g1w.loc[(g1w['Crime Count']>=9) & (g1w['Crime Count']<=23)]\n",
    "#Medium Crime\n",
    "g2 = g1w.loc[(g1w['Crime Count']>=24) & (g1w['Crime Count']<=38)]\n",
    "#High Crime\n",
    "g3 = g1w.loc[(g1w['Crime Count']>=39) & (g1w['Crime Count']<=51)]"
   ]
  },
  {
   "cell_type": "code",
   "execution_count": 4,
   "metadata": {},
   "outputs": [
    {
     "data": {
      "text/html": [
       "<div>\n",
       "<style scoped>\n",
       "    .dataframe tbody tr th:only-of-type {\n",
       "        vertical-align: middle;\n",
       "    }\n",
       "\n",
       "    .dataframe tbody tr th {\n",
       "        vertical-align: top;\n",
       "    }\n",
       "\n",
       "    .dataframe thead th {\n",
       "        text-align: right;\n",
       "    }\n",
       "</style>\n",
       "<table border=\"1\" class=\"dataframe\">\n",
       "  <thead>\n",
       "    <tr style=\"text-align: right;\">\n",
       "      <th></th>\n",
       "      <th>Month</th>\n",
       "      <th>Day</th>\n",
       "      <th>Crime Count</th>\n",
       "      <th>Avg_Temp</th>\n",
       "      <th>Humidity</th>\n",
       "      <th>Precip</th>\n",
       "      <th>Wind_Speed</th>\n",
       "      <th>Conditions</th>\n",
       "      <th>Ice Cream Shop</th>\n",
       "    </tr>\n",
       "  </thead>\n",
       "  <tbody>\n",
       "    <tr>\n",
       "      <th>0</th>\n",
       "      <td>1</td>\n",
       "      <td>1</td>\n",
       "      <td>21</td>\n",
       "      <td>42.8</td>\n",
       "      <td>67.84</td>\n",
       "      <td>0.00</td>\n",
       "      <td>13.3</td>\n",
       "      <td>Partially cloudy</td>\n",
       "      <td>77</td>\n",
       "    </tr>\n",
       "    <tr>\n",
       "      <th>6</th>\n",
       "      <td>1</td>\n",
       "      <td>7</td>\n",
       "      <td>14</td>\n",
       "      <td>50.1</td>\n",
       "      <td>56.86</td>\n",
       "      <td>0.00</td>\n",
       "      <td>11.7</td>\n",
       "      <td>Overcast</td>\n",
       "      <td>47</td>\n",
       "    </tr>\n",
       "    <tr>\n",
       "      <th>7</th>\n",
       "      <td>1</td>\n",
       "      <td>8</td>\n",
       "      <td>18</td>\n",
       "      <td>51.1</td>\n",
       "      <td>85.55</td>\n",
       "      <td>0.23</td>\n",
       "      <td>9.9</td>\n",
       "      <td>Rain, Overcast</td>\n",
       "      <td>64</td>\n",
       "    </tr>\n",
       "    <tr>\n",
       "      <th>8</th>\n",
       "      <td>1</td>\n",
       "      <td>9</td>\n",
       "      <td>20</td>\n",
       "      <td>49.9</td>\n",
       "      <td>88.55</td>\n",
       "      <td>0.30</td>\n",
       "      <td>11.0</td>\n",
       "      <td>Rain, Overcast</td>\n",
       "      <td>72</td>\n",
       "    </tr>\n",
       "    <tr>\n",
       "      <th>10</th>\n",
       "      <td>1</td>\n",
       "      <td>11</td>\n",
       "      <td>20</td>\n",
       "      <td>32.0</td>\n",
       "      <td>50.33</td>\n",
       "      <td>0.00</td>\n",
       "      <td>11.0</td>\n",
       "      <td>Clear</td>\n",
       "      <td>66</td>\n",
       "    </tr>\n",
       "  </tbody>\n",
       "</table>\n",
       "</div>"
      ],
      "text/plain": [
       "    Month  Day  Crime Count  Avg_Temp  Humidity  Precip  Wind_Speed  \\\n",
       "0       1    1           21      42.8     67.84    0.00        13.3   \n",
       "6       1    7           14      50.1     56.86    0.00        11.7   \n",
       "7       1    8           18      51.1     85.55    0.23         9.9   \n",
       "8       1    9           20      49.9     88.55    0.30        11.0   \n",
       "10      1   11           20      32.0     50.33    0.00        11.0   \n",
       "\n",
       "          Conditions  Ice Cream Shop  \n",
       "0   Partially cloudy              77  \n",
       "6           Overcast              47  \n",
       "7     Rain, Overcast              64  \n",
       "8     Rain, Overcast              72  \n",
       "10             Clear              66  "
      ]
     },
     "execution_count": 4,
     "metadata": {},
     "output_type": "execute_result"
    }
   ],
   "source": [
    "g1.head()"
   ]
  },
  {
   "cell_type": "markdown",
   "metadata": {},
   "source": [
    "# Section 3: ANOVA Test"
   ]
  },
  {
   "cell_type": "code",
   "execution_count": 5,
   "metadata": {},
   "outputs": [
    {
     "data": {
      "image/png": "[encoded data removed]",
      "text/plain": [
       "<Figure size 1080x432 with 3 Axes>"
      ]
     },
     "metadata": {
      "needs_background": "light"
     },
     "output_type": "display_data"
    }
   ],
   "source": [
    "#ANOVA TEST FOR AVERAGE TEMPERATURE\n",
    "fig,ax = plt.subplots(1,3,figsize=(15,6))\n",
    "fig.suptitle('Box Plots for LARCENY-FROM VEHICLE & AVERAGE TEMPERATURE ')\n",
    "ax[0].boxplot(g1['Avg_Temp'])\n",
    "ax[0].title.set_text('Low Crime')\n",
    "ax[1].boxplot(g2['Avg_Temp'])\n",
    "ax[1].title.set_text('Medium Crime')\n",
    "ax[2].boxplot(g3['Avg_Temp'])\n",
    "ax[2].title.set_text('High Crime')\n",
    "fig.text(0.08, 0.5, 'Average Temperature (F)', ha='center', va='center', rotation ='vertical')\n",
    "plt.show()"
   ]
  },
  {
   "cell_type": "code",
   "execution_count": 6,
   "metadata": {},
   "outputs": [
    {
     "data": {
      "text/plain": [
       "F_onewayResult(statistic=6.815355123938199, pvalue=0.0012426464587675927)"
      ]
     },
     "execution_count": 6,
     "metadata": {},
     "output_type": "execute_result"
    }
   ],
   "source": [
    "# Perform ANOVA TEST FOR AVERAGE TEMPERATURE\n",
    "sts.f_oneway(g1['Avg_Temp'], g2['Avg_Temp'], g3['Avg_Temp'])"
   ]
  },
  {
   "cell_type": "markdown",
   "metadata": {},
   "source": [
    "**Conclusion:**\n",
    "We can reject Ho with p value of 0.0012, most likely Temperature has a level of correlation with amount of crimes"
   ]
  },
  {
   "cell_type": "code",
   "execution_count": 7,
   "metadata": {},
   "outputs": [
    {
     "data": {
      "image/png": "[encoded data removed]",
      "text/plain": [
       "<Figure size 1080x432 with 3 Axes>"
      ]
     },
     "metadata": {
      "needs_background": "light"
     },
     "output_type": "display_data"
    }
   ],
   "source": [
    "#ANOVA TEST FOR ICE CREAM SHOP COUNT\n",
    "fig,ax = plt.subplots(1,3,figsize=(15,6))\n",
    "fig.suptitle('Box Plots for LARCENY-FROM VEHICLE & ICE CREAM SHOP COUNT ')\n",
    "ax[0].boxplot(g1['Ice Cream Shop'])\n",
    "ax[0].title.set_text('Low Crime')\n",
    "ax[1].boxplot(g2['Ice Cream Shop'])\n",
    "ax[1].title.set_text('Medium Crime')\n",
    "ax[2].boxplot(g3['Ice Cream Shop'])\n",
    "ax[2].title.set_text('High Crime')\n",
    "fig.text(0.08, 0.5, 'Count of Ice-Cream Shops', ha='center', va='center', rotation ='vertical')\n",
    "plt.show()"
   ]
  },
  {
   "cell_type": "code",
   "execution_count": 8,
   "metadata": {},
   "outputs": [
    {
     "data": {
      "text/plain": [
       "F_onewayResult(statistic=606.7604795735031, pvalue=1.739995091998492e-116)"
      ]
     },
     "execution_count": 8,
     "metadata": {},
     "output_type": "execute_result"
    }
   ],
   "source": [
    "# Perform ANOVA TEST FOR ICE CREAM SHOP COUNT\n",
    "sts.f_oneway(g1['Ice Cream Shop'], g2['Ice Cream Shop'], g3['Ice Cream Shop'])"
   ]
  },
  {
   "cell_type": "markdown",
   "metadata": {},
   "source": [
    "**Conclusion:**\n",
    "We can reject Ho with p value of 1.73e-116, most likely the number of Ice Cream Shops in the vicinity of a crime has a level of correlation with amount of crimes"
   ]
  },
  {
   "cell_type": "markdown",
   "metadata": {},
   "source": [
    "# Section 4: Chi Square Test"
   ]
  },
  {
   "cell_type": "code",
   "execution_count": 9,
   "metadata": {},
   "outputs": [
    {
     "data": {
      "text/html": [
       "<div>\n",
       "<style scoped>\n",
       "    .dataframe tbody tr th:only-of-type {\n",
       "        vertical-align: middle;\n",
       "    }\n",
       "\n",
       "    .dataframe tbody tr th {\n",
       "        vertical-align: top;\n",
       "    }\n",
       "\n",
       "    .dataframe thead th {\n",
       "        text-align: right;\n",
       "    }\n",
       "</style>\n",
       "<table border=\"1\" class=\"dataframe\">\n",
       "  <thead>\n",
       "    <tr style=\"text-align: right;\">\n",
       "      <th></th>\n",
       "      <th>Observed T</th>\n",
       "      <th>Expected T</th>\n",
       "      <th>Observed I</th>\n",
       "      <th>Expected I</th>\n",
       "    </tr>\n",
       "  </thead>\n",
       "  <tbody>\n",
       "    <tr>\n",
       "      <th>Low Crime</th>\n",
       "      <td>8226.3</td>\n",
       "      <td>7874.2</td>\n",
       "      <td>8874</td>\n",
       "      <td>11317.666667</td>\n",
       "    </tr>\n",
       "    <tr>\n",
       "      <th>Medium Crime</th>\n",
       "      <td>12882.5</td>\n",
       "      <td>7874.2</td>\n",
       "      <td>20092</td>\n",
       "      <td>11317.666667</td>\n",
       "    </tr>\n",
       "    <tr>\n",
       "      <th>High Crime</th>\n",
       "      <td>2513.8</td>\n",
       "      <td>7874.2</td>\n",
       "      <td>4987</td>\n",
       "      <td>11317.666667</td>\n",
       "    </tr>\n",
       "  </tbody>\n",
       "</table>\n",
       "</div>"
      ],
      "text/plain": [
       "              Observed T  Expected T  Observed I    Expected I\n",
       "Low Crime         8226.3      7874.2        8874  11317.666667\n",
       "Medium Crime     12882.5      7874.2       20092  11317.666667\n",
       "High Crime        2513.8      7874.2        4987  11317.666667"
      ]
     },
     "execution_count": 9,
     "metadata": {},
     "output_type": "execute_result"
    }
   ],
   "source": [
    "# Create Dataframe of Observed vs Expected values for Avg Temp and Count of Ice Cream Shops\n",
    "df = pd.DataFrame({'Observed T':[g1['Avg_Temp'].sum(),g2['Avg_Temp'].sum(),g3['Avg_Temp'].sum()],\n",
    "                  'Observed I':[g1['Ice Cream Shop'].sum(),g2['Ice Cream Shop'].sum(),g3['Ice Cream Shop'].sum()]})\n",
    "df['Expected T']=df['Observed T'].mean()\n",
    "df['Expected I']=df['Observed I'].mean()\n",
    "df = df[['Observed T','Expected T','Observed I','Expected I']]\n",
    "df.rename(index={0: 'Low Crime', 1:'Medium Crime', 2:'High Crime'}, inplace=True)\n",
    "df"
   ]
  },
  {
   "cell_type": "code",
   "execution_count": 10,
   "metadata": {},
   "outputs": [
    {
     "data": {
      "text/plain": [
       "5.991464547107979"
      ]
     },
     "execution_count": 10,
     "metadata": {},
     "output_type": "execute_result"
    }
   ],
   "source": [
    "#Calculate the critical value\n",
    "critical_value = sts.chi2.ppf(q = 0.95, df = 2)\n",
    "critical_value"
   ]
  },
  {
   "cell_type": "code",
   "execution_count": 11,
   "metadata": {},
   "outputs": [
    {
     "data": {
      "text/plain": [
       "Power_divergenceResult(statistic=6850.337997510856, pvalue=0.0)"
      ]
     },
     "execution_count": 11,
     "metadata": {},
     "output_type": "execute_result"
    }
   ],
   "source": [
    "# Run the chi square test for AVERAGE TEMPERATURE\n",
    "sts.chisquare(df['Observed T'], df['Expected T'])"
   ]
  },
  {
   "cell_type": "markdown",
   "metadata": {},
   "source": [
    "**Conclusion:**\n",
    "Since the chi-square value of 6850 at a confidence level of 95% exceeds the critical value of 5.99, we conclude that the differences seen in the number of crime counts per crime group are statistically significant for TEMPERATURE."
   ]
  },
  {
   "cell_type": "code",
   "execution_count": 12,
   "metadata": {},
   "outputs": [
    {
     "data": {
      "text/plain": [
       "Power_divergenceResult(statistic=10871.302035166258, pvalue=0.0)"
      ]
     },
     "execution_count": 12,
     "metadata": {},
     "output_type": "execute_result"
    }
   ],
   "source": [
    "# Run the chi square test for ICE CREAM SHOP COUNTS\n",
    "sts.chisquare(df['Observed I'], df['Expected I'])"
   ]
  },
  {
   "cell_type": "markdown",
   "metadata": {},
   "source": [
    "**Conclusion:**\n",
    "Since the chi-square value of 10871 at a confidence level of 95% exceeds the critical value of 5.99, we conclude that the differences seen in the number of crime counts per crime group are statistically significant for ICE CREAM SHOP COUNTS."
   ]
  },
  {
   "cell_type": "markdown",
   "metadata": {},
   "source": [
    "# Section 5: Conclusion"
   ]
  },
  {
   "cell_type": "markdown",
   "metadata": {},
   "source": [
    "We reject Ho and accept Ha: Most likely crime counts have a correlation with weather data and number of ice cream shops in the vicinity"
   ]
  }
 ],
 "metadata": {
  "kernelspec": {
   "display_name": "Python 3",
   "language": "python",
   "name": "python3"
  },
  "language_info": {
   "codemirror_mode": {
    "name": "ipython",
    "version": 3
   },
   "file_extension": ".py",
   "mimetype": "text/x-python",
   "name": "python",
   "nbconvert_exporter": "python",
   "pygments_lexer": "ipython3",
   "version": "3.8.3"
  }
 },
 "nbformat": 4,
 "nbformat_minor": 4
}
