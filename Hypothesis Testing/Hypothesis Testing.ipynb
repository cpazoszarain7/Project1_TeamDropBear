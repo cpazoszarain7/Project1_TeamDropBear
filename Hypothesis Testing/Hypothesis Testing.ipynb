{
 "cells": [
  {
   "attachments": {},
   "cell_type": "markdown",
   "metadata": {},
   "source": [
    "# Ho = Crime correlates with weather and proximity to ice-cream shops!\n",
    "# Ha = Crime does not correlate with weather and proximity to ice-cream shops!"
   ]
  },
  {
   "cell_type": "markdown",
   "metadata": {},
   "source": [
    "# Section 1: Import Libraries"
   ]
  },
  {
   "cell_type": "code",
   "execution_count": 2,
   "metadata": {},
   "outputs": [],
   "source": [
    "#Import Libraries\n",
    "import pandas as pd\n",
    "import numpy as np\n",
    "import matplotlib.pyplot as plt\n",
    "import requests\n",
    "import os\n",
    "import gmaps\n",
    "import scipy.stats as sts\n",
    "from pprint import pprint\n",
    "import warnings\n",
    "warnings.filterwarnings('ignore')\n",
    "%matplotlib inline"
   ]
  },
  {
   "cell_type": "markdown",
   "metadata": {},
   "source": [
    "# Section 2: Load Datasets"
   ]
  },
  {
   "cell_type": "code",
   "execution_count": 5,
   "metadata": {},
   "outputs": [],
   "source": [
    "# Load individual groups\n",
    "\n",
    "#1. LARCENY-FROM VEHICLE\n",
    "path = os.path.join('..','Resources','larceny2.csv')\n",
    "g1w = pd.read_csv(path)\n",
    "g1w.drop(['Unnamed: 0','Unnamed: 0.1','Unnamed: 0.1.1'],axis=1, inplace=True)\n",
    "\n",
    "#2. BURGLARY-RESIDENCE\n",
    "path = os.path.join('..','Resources','burglary2.csv')\n",
    "g2w = pd.read_csv(path)\n",
    "g2w.drop(['Unnamed: 0','Unnamed: 0.1','Unnamed: 0.1.1'],axis=1, inplace=True)\n",
    "\n",
    "#3. ROBBERY-PEDESTRIAN\n",
    "path = os.path.join('..','Resources','robbery2.csv')\n",
    "g3w = pd.read_csv(path)\n",
    "g3w.drop(['Unnamed: 0','Unnamed: 0.1','Unnamed: 0.1.1'],axis=1, inplace=True)\n",
    "\n",
    "#4. RAPE\n",
    "path = os.path.join('..','Resources','rape2.csv')\n",
    "g4w = pd.read_csv(path)\n",
    "g4w.drop(['Unnamed: 0','Unnamed: 0.1','Unnamed: 0.1.1'],axis=1, inplace=True)\n",
    "\n",
    "#5. HOMICIDE\n",
    "path = os.path.join('..','Resources','homicide2.csv')\n",
    "g5w = pd.read_csv(path)\n",
    "g5w.drop(['Unnamed: 0','Unnamed: 0.1','Unnamed: 0.1.1'],axis=1, inplace=True)"
   ]
  },
  {
   "cell_type": "code",
   "execution_count": 33,
   "metadata": {},
   "outputs": [],
   "source": [
    "# Create Groups for Tests\n",
    "g1 = g1w['Crime Count']\n",
    "g2 = g2w['Crime Count']\n",
    "g3 = g3w['Crime Count']\n",
    "g4 = g4w['Crime Count']\n",
    "g5 = g5w['Crime Count']"
   ]
  },
  {
   "cell_type": "markdown",
   "metadata": {},
   "source": [
    "# Section 3: ANOVA Test for Ice-Cream Correlation"
   ]
  },
  {
   "cell_type": "code",
   "execution_count": 34,
   "metadata": {},
   "outputs": [
    {
     "data": {
      "image/png": "[encoded data removed]",
      "text/plain": [
       "<Figure size 1080x360 with 5 Axes>"
      ]
     },
     "metadata": {
      "needs_background": "light"
     },
     "output_type": "display_data"
    }
   ],
   "source": [
    "#Bar Plots for Count of Ice-Cream Shops for all Crime Types\n",
    "fig,ax = plt.subplots(1,5,figsize=(15,5))\n",
    "fig.suptitle('Crime Type vs Ice-Cream Shops Count')\n",
    "\n",
    "#1. LARCENY-FROM VEHICLE\n",
    "ax[0].boxplot(g1)\n",
    "ax[0].title.set_text('LARCENY-FROM VEHICLE')\n",
    "\n",
    "#2. BURGLARY-RESIDENCE\n",
    "ax[1].boxplot(g2)\n",
    "ax[1].title.set_text('BURGLARY-RESIDENCE')\n",
    "\n",
    "#3. ROBBERY-PEDESTRIAN\n",
    "ax[2].boxplot(g3)\n",
    "ax[2].title.set_text('ROBBERY-PEDESTRIAN')\n",
    "\n",
    "#4. RAPE\n",
    "ax[3].boxplot(g4)\n",
    "ax[3].title.set_text('RAPE')\n",
    "\n",
    "#5. HOMICIDE\n",
    "ax[4].boxplot(g5)\n",
    "ax[4].title.set_text('LARCENY-FROM VEHICLE')\n",
    "\n",
    "fig.text(0.08, 0.5, 'Crime Counts per Type of Crime', ha='center', va='center', rotation ='vertical')\n",
    "plt.show()"
   ]
  },
  {
   "cell_type": "code",
   "execution_count": 36,
   "metadata": {},
   "outputs": [
    {
     "data": {
      "text/plain": [
       "F_onewayResult(statistic=1486.1521609534068, pvalue=0.0)"
      ]
     },
     "execution_count": 36,
     "metadata": {},
     "output_type": "execute_result"
    }
   ],
   "source": [
    "# Perform the ANOVA\n",
    "sts.f_oneway(g1, g2, g3, g4,g5)"
   ]
  },
  {
   "cell_type": "markdown",
   "metadata": {},
   "source": [
    "# Section 4: Chi Square Test"
   ]
  },
  {
   "cell_type": "code",
   "execution_count": 39,
   "metadata": {},
   "outputs": [
    {
     "data": {
      "text/html": [
       "<div>\n",
       "<style scoped>\n",
       "    .dataframe tbody tr th:only-of-type {\n",
       "        vertical-align: middle;\n",
       "    }\n",
       "\n",
       "    .dataframe tbody tr th {\n",
       "        vertical-align: top;\n",
       "    }\n",
       "\n",
       "    .dataframe thead th {\n",
       "        text-align: right;\n",
       "    }\n",
       "</style>\n",
       "<table border=\"1\" class=\"dataframe\">\n",
       "  <thead>\n",
       "    <tr style=\"text-align: right;\">\n",
       "      <th></th>\n",
       "      <th>Observed</th>\n",
       "      <th>Expected</th>\n",
       "    </tr>\n",
       "  </thead>\n",
       "  <tbody>\n",
       "    <tr>\n",
       "      <th>0</th>\n",
       "      <td>9980</td>\n",
       "      <td>3027.8</td>\n",
       "    </tr>\n",
       "    <tr>\n",
       "      <th>1</th>\n",
       "      <td>3409</td>\n",
       "      <td>3027.8</td>\n",
       "    </tr>\n",
       "    <tr>\n",
       "      <th>2</th>\n",
       "      <td>1501</td>\n",
       "      <td>3027.8</td>\n",
       "    </tr>\n",
       "    <tr>\n",
       "      <th>3</th>\n",
       "      <td>142</td>\n",
       "      <td>3027.8</td>\n",
       "    </tr>\n",
       "    <tr>\n",
       "      <th>4</th>\n",
       "      <td>107</td>\n",
       "      <td>3027.8</td>\n",
       "    </tr>\n",
       "  </tbody>\n",
       "</table>\n",
       "</div>"
      ],
      "text/plain": [
       "   Observed  Expected\n",
       "0      9980    3027.8\n",
       "1      3409    3027.8\n",
       "2      1501    3027.8\n",
       "3       142    3027.8\n",
       "4       107    3027.8"
      ]
     },
     "execution_count": 39,
     "metadata": {},
     "output_type": "execute_result"
    }
   ],
   "source": [
    "g1w['Ice Cream Shop'].sum()\n",
    "df = pd.DataFrame({'Observed':[g1.sum(),g2.sum(),g3.sum(),g4.sum(),g5.sum()]})\n",
    "df['Expected']=df['Observed'].mean()\n",
    "df"
   ]
  },
  {
   "cell_type": "code",
   "execution_count": 40,
   "metadata": {},
   "outputs": [
    {
     "data": {
      "text/plain": [
       "9.487729036781154"
      ]
     },
     "execution_count": 40,
     "metadata": {},
     "output_type": "execute_result"
    }
   ],
   "source": [
    "#Calculate the critical value\n",
    "critical_value = sts.chi2.ppf(q = 0.95, df = 4)\n",
    "critical_value"
   ]
  },
  {
   "cell_type": "code",
   "execution_count": 41,
   "metadata": {},
   "outputs": [
    {
     "data": {
      "text/plain": [
       "Power_divergenceResult(statistic=22349.042473082765, pvalue=0.0)"
      ]
     },
     "execution_count": 41,
     "metadata": {},
     "output_type": "execute_result"
    }
   ],
   "source": [
    "# Run the chi square test with stats.chisquare()\n",
    "sts.chisquare(df['Observed'], df['Expected'])"
   ]
  },
  {
   "cell_type": "markdown",
   "metadata": {},
   "source": [
    "# Section5: Conclusions"
   ]
  },
  {
   "cell_type": "markdown",
   "metadata": {},
   "source": [
    "Since the chi-square value of 22349 at a confidence level of 95% exceeds the critical value of 9.48, we conclude that the differences seen in the number of crime counts per type of crime are statistically significant."
   ]
  }
 ],
 "metadata": {
  "kernelspec": {
   "display_name": "Python 3",
   "language": "python",
   "name": "python3"
  },
  "language_info": {
   "codemirror_mode": {
    "name": "ipython",
    "version": 3
   },
   "file_extension": ".py",
   "mimetype": "text/x-python",
   "name": "python",
   "nbconvert_exporter": "python",
   "pygments_lexer": "ipython3",
   "version": "3.8.3"
  }
 },
 "nbformat": 4,
 "nbformat_minor": 4
}
