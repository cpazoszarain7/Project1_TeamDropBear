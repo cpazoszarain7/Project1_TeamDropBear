{
 "cells": [
  {
   "cell_type": "code",
   "execution_count": null,
   "metadata": {},
   "outputs": [],
   "source": [
    "#Notebook for Crime and Weather Data Wrangling\n",
    "#ASSUMPTIONS\n",
    "#We are only using 2016 date\n",
    "#For weather we consider below fields:\n",
    "  #Temperature\n",
    "  #Pressure\n",
    "  #Humidity\n",
    "  #Wind\n",
    "  #Precipitation\n",
    "  #Clouds\n",
    "#We are only focusing on top crime\n",
    "\n",
    "\n",
    "#SEPARATE for crime count vs weather Carlos, Doris\n",
    "#1. Agregate data based on crime count -> Larceny-from vehicle\n",
    "#2. Agregate by date\n",
    "#3. Get weather data per date\n",
    "#4. Test correlations\n",
    "\n",
    "#SEPARATE for crime count vs ice-cream shop Rabia, Isaiah \n",
    "#1. Agregate data based on crime count -> Larceny-from vehicle\n",
    "#2. Agregate by date to get crime count ->5\n",
    "#2. Add number of shops per coordinate per date -> take max count\n",
    "#3. Correlate crime count vs number of shops\n",
    "\n",
    "#VISUALIZATIONS & HYPOTHESIS TESTING FOR CRIME vs WEATHER\n",
    "#location map of of count of crimes in Atlanta (put in the first part)\n",
    "#pie chart of all types of crimes\n",
    "#bar plot of LARCENY-FROM VEHICLE\t count per month in 2016\n",
    "#ditplot of crime count\n",
    "#distplot of max temps & each weather variable (pressure,humidity, wind, precipitation, cloud)\n",
    "#scatter plot of crime count per date vs temperature\n",
    "#scatter plot of crime count per date vs each weather variable (pressure,humidity, wind, precipitation, cloud)\n",
    "\n",
    "#VISUALIZATIONS & HYPOTHESIS TESTING FOR CRIME vs ICE-CREAM\n",
    "#distplot of ice-crem shop count\n",
    "#scatter plot of crime count per date vs ice-cream shop count\n",
    "#gplot of crime with max temp and ice-cream shop vcicnity (pick one row)\n",
    "\n",
    "#CONCLUSION & OBSERVATIONS\n",
    "#Result of testing hypothesis\n",
    "#fun facts!"
   ]
  }
 ],
 "metadata": {
  "kernelspec": {
   "display_name": "Python 3",
   "language": "python",
   "name": "python3"
  },
  "language_info": {
   "codemirror_mode": {
    "name": "ipython",
    "version": 3
   },
   "file_extension": ".py",
   "mimetype": "text/x-python",
   "name": "python",
   "nbconvert_exporter": "python",
   "pygments_lexer": "ipython3",
   "version": "3.8.3"
  }
 },
 "nbformat": 4,
 "nbformat_minor": 4
}
