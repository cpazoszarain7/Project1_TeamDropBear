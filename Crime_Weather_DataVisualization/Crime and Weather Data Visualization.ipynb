{
 "cells": [
  {
   "cell_type": "code",
   "execution_count": 1,
   "metadata": {},
   "outputs": [],
   "source": [
    "#Import Libraries\n",
    "import pandas as pd\n",
    "import numpy as np\n",
    "import matplotlib.pyplot as plt\n",
    "import requests\n",
    "import os\n",
    "import gmaps\n",
    "import scipy.stats as sts\n",
    "from pprint import pprint\n",
    "import warnings\n",
    "warnings.filterwarnings('ignore')\n",
    "\n",
    "#Google developer API key {Carlos}\n",
    "from config import gkey\n",
    "\n",
    "%matplotlib inline"
   ]
  },
  {
   "cell_type": "code",
   "execution_count": 4,
   "metadata": {},
   "outputs": [
    {
     "data": {
      "text/html": [
       "<div>\n",
       "<style scoped>\n",
       "    .dataframe tbody tr th:only-of-type {\n",
       "        vertical-align: middle;\n",
       "    }\n",
       "\n",
       "    .dataframe tbody tr th {\n",
       "        vertical-align: top;\n",
       "    }\n",
       "\n",
       "    .dataframe thead th {\n",
       "        text-align: right;\n",
       "    }\n",
       "</style>\n",
       "<table border=\"1\" class=\"dataframe\">\n",
       "  <thead>\n",
       "    <tr style=\"text-align: right;\">\n",
       "      <th></th>\n",
       "      <th>crime</th>\n",
       "      <th>number</th>\n",
       "      <th>date</th>\n",
       "      <th>location</th>\n",
       "      <th>beat</th>\n",
       "      <th>neighborhood</th>\n",
       "      <th>npu</th>\n",
       "      <th>lat</th>\n",
       "      <th>long</th>\n",
       "      <th>Month</th>\n",
       "      <th>Day</th>\n",
       "      <th>Year</th>\n",
       "    </tr>\n",
       "  </thead>\n",
       "  <tbody>\n",
       "    <tr>\n",
       "      <th>0</th>\n",
       "      <td>HOMICIDE</td>\n",
       "      <td>163051391092</td>\n",
       "      <td>10/31/2016</td>\n",
       "      <td>1205 METROPOLITAN AVE SE</td>\n",
       "      <td>612</td>\n",
       "      <td>East Atlanta</td>\n",
       "      <td>W</td>\n",
       "      <td>33.74173</td>\n",
       "      <td>-84.34749</td>\n",
       "      <td>10</td>\n",
       "      <td>31</td>\n",
       "      <td>2016</td>\n",
       "    </tr>\n",
       "    <tr>\n",
       "      <th>1</th>\n",
       "      <td>AUTO THEFT</td>\n",
       "      <td>163030548</td>\n",
       "      <td>10/31/2016</td>\n",
       "      <td>180 PONCE DE LEON AVE NE</td>\n",
       "      <td>505</td>\n",
       "      <td>Midtown</td>\n",
       "      <td>E</td>\n",
       "      <td>33.77285</td>\n",
       "      <td>-84.38149</td>\n",
       "      <td>10</td>\n",
       "      <td>31</td>\n",
       "      <td>2016</td>\n",
       "    </tr>\n",
       "    <tr>\n",
       "      <th>2</th>\n",
       "      <td>LARCENY-FROM VEHICLE</td>\n",
       "      <td>163041611</td>\n",
       "      <td>10/31/2016</td>\n",
       "      <td>1783 JOHNSON RD NW</td>\n",
       "      <td>110</td>\n",
       "      <td>Rockdale</td>\n",
       "      <td>G</td>\n",
       "      <td>33.78547</td>\n",
       "      <td>-84.44593</td>\n",
       "      <td>10</td>\n",
       "      <td>31</td>\n",
       "      <td>2016</td>\n",
       "    </tr>\n",
       "    <tr>\n",
       "      <th>3</th>\n",
       "      <td>LARCENY-FROM VEHICLE</td>\n",
       "      <td>163050183</td>\n",
       "      <td>10/31/2016</td>\n",
       "      <td>1000 NORTHSIDE DR NW</td>\n",
       "      <td>501</td>\n",
       "      <td>Home Park</td>\n",
       "      <td>E</td>\n",
       "      <td>33.78196</td>\n",
       "      <td>-84.40835</td>\n",
       "      <td>10</td>\n",
       "      <td>31</td>\n",
       "      <td>2016</td>\n",
       "    </tr>\n",
       "    <tr>\n",
       "      <th>4</th>\n",
       "      <td>AUTO THEFT</td>\n",
       "      <td>163050218</td>\n",
       "      <td>10/31/2016</td>\n",
       "      <td>2264 COUNTRY CLUB DR SW</td>\n",
       "      <td>409</td>\n",
       "      <td>Southwest</td>\n",
       "      <td>R</td>\n",
       "      <td>33.69384</td>\n",
       "      <td>-84.49398</td>\n",
       "      <td>10</td>\n",
       "      <td>31</td>\n",
       "      <td>2016</td>\n",
       "    </tr>\n",
       "  </tbody>\n",
       "</table>\n",
       "</div>"
      ],
      "text/plain": [
       "                  crime        number        date                  location  \\\n",
       "0              HOMICIDE  163051391092  10/31/2016  1205 METROPOLITAN AVE SE   \n",
       "1            AUTO THEFT     163030548  10/31/2016  180 PONCE DE LEON AVE NE   \n",
       "2  LARCENY-FROM VEHICLE     163041611  10/31/2016        1783 JOHNSON RD NW   \n",
       "3  LARCENY-FROM VEHICLE     163050183  10/31/2016      1000 NORTHSIDE DR NW   \n",
       "4            AUTO THEFT     163050218  10/31/2016   2264 COUNTRY CLUB DR SW   \n",
       "\n",
       "   beat  neighborhood npu       lat      long  Month  Day  Year  \n",
       "0   612  East Atlanta   W  33.74173 -84.34749     10   31  2016  \n",
       "1   505       Midtown   E  33.77285 -84.38149     10   31  2016  \n",
       "2   110      Rockdale   G  33.78547 -84.44593     10   31  2016  \n",
       "3   501     Home Park   E  33.78196 -84.40835     10   31  2016  \n",
       "4   409     Southwest   R  33.69384 -84.49398     10   31  2016  "
      ]
     },
     "execution_count": 4,
     "metadata": {},
     "output_type": "execute_result"
    }
   ],
   "source": [
    "#Load CSV\n",
    "path = os.path.join('..','Resources','ATLCrime2016.csv')\n",
    "crime = pd.read_csv(path)\n",
    "crime.drop('Unnamed: 0', axis=1, inplace=True)\n",
    "crime.head()"
   ]
  },
  {
   "cell_type": "code",
   "execution_count": 6,
   "metadata": {},
   "outputs": [
    {
     "name": "stdout",
     "output_type": "stream",
     "text": [
      "<class 'pandas.core.frame.DataFrame'>\n",
      "RangeIndex: 29131 entries, 0 to 29130\n",
      "Data columns (total 12 columns):\n",
      " #   Column        Non-Null Count  Dtype  \n",
      "---  ------        --------------  -----  \n",
      " 0   crime         29131 non-null  object \n",
      " 1   number        29131 non-null  int64  \n",
      " 2   date          29131 non-null  object \n",
      " 3   location      29131 non-null  object \n",
      " 4   beat          29131 non-null  int64  \n",
      " 5   neighborhood  27795 non-null  object \n",
      " 6   npu           28877 non-null  object \n",
      " 7   lat           29131 non-null  float64\n",
      " 8   long          29131 non-null  float64\n",
      " 9   Month         29131 non-null  int64  \n",
      " 10  Day           29131 non-null  int64  \n",
      " 11  Year          29131 non-null  int64  \n",
      "dtypes: float64(2), int64(5), object(5)\n",
      "memory usage: 2.7+ MB\n"
     ]
    }
   ],
   "source": [
    "crime.info()"
   ]
  },
  {
   "cell_type": "code",
   "execution_count": 16,
   "metadata": {},
   "outputs": [
    {
     "data": {
      "application/vnd.jupyter.widget-view+json": {
       "model_id": "751eda32d09f43fe9c125c695d57ff1a",
       "version_major": 2,
       "version_minor": 0
      },
      "text/plain": [
       "Figure(layout=FigureLayout(border='1px solid black', height='600px', margin='0 auto 0 auto', padding='1px', wi…"
      ]
     },
     "metadata": {},
     "output_type": "display_data"
    }
   ],
   "source": [
    "#Gmap pf Crime Type in 2016\n",
    "\n",
    "#Configure Gmaps\n",
    "gmaps.configure(api_key=gkey)\n",
    "\n",
    "#Load parameters\n",
    "coordg1 = crime.loc[(crime['crime']=='LARCENY-FROM VEHICLE') & (crime['Month']==6)][['lat','long']]\n",
    "coordg2 = crime.loc[(crime['crime']=='BURGLARY-RESIDENCE') & (crime['Month']==6)][['lat','long']]\n",
    "coordg3 = crime.loc[(crime['crime']=='ROBBERY-PEDESTRIAN') & (crime['Month']==6)][['lat','long']]\n",
    "coordg4 = crime.loc[(crime['crime']=='RAPE') & (crime['Month']==6)][['lat','long']]\n",
    "coordg5 = crime.loc[(crime['crime']=='HOMICIDE') & (crime['Month']==6)][['lat','long']]\n",
    "\n",
    "figure_layout = {\n",
    "    \n",
    "    'width':'1000px',\n",
    "    'height':'600px',\n",
    "    'border':'1px solid black',\n",
    "    'padding':'1px',\n",
    "    'margin':'0 auto 0 auto'\n",
    "}\n",
    "\n",
    "f = gmaps.figure(layout=figure_layout)\n",
    "#f.add_layer(gmaps.symbol_layer(coordg1, fill_color='red', stroke_color='red', scale=2))\n",
    "#f.add_layer(gmaps.symbol_layer(coordg2, fill_color='green', stroke_color='green', scale=2))\n",
    "f.add_layer(gmaps.symbol_layer(coordg3, fill_color='yellow', stroke_color='yellow', scale=2))\n",
    "#f.add_layer(gmaps.symbol_layer(coordg4, fill_color='blue', stroke_color='blue', scale=2))\n",
    "#f.add_layer(gmaps.symbol_layer(coordg5, fill_color='purple', stroke_color='purple', scale=2))\n",
    "f"
   ]
  },
  {
   "cell_type": "code",
   "execution_count": 24,
   "metadata": {},
   "outputs": [
    {
     "data": {
      "text/plain": [
       "<matplotlib.axes._subplots.AxesSubplot at 0x7fc42d34e160>"
      ]
     },
     "execution_count": 24,
     "metadata": {},
     "output_type": "execute_result"
    },
    {
     "data": {
      "image/png": "[encoded data removed]",
      "text/plain": [
       "<Figure size 720x720 with 1 Axes>"
      ]
     },
     "metadata": {},
     "output_type": "display_data"
    }
   ],
   "source": [
    "#Pie chart of type of crime\n",
    "data = crime.groupby('crime').count().iloc[:,0]\n",
    "labels=data.index\n",
    "data.plot.pie(figsize=(10,10), labels=labels, colors = plt.get_cmap('Pastel1').colors)"
   ]
  },
  {
   "cell_type": "code",
   "execution_count": 60,
   "metadata": {},
   "outputs": [
    {
     "data": {
      "image/png": "[encoded data removed]",
      "text/plain": [
       "<Figure size 864x432 with 1 Axes>"
      ]
     },
     "metadata": {
      "needs_background": "light"
     },
     "output_type": "display_data"
    }
   ],
   "source": [
    "data = crime.groupby('crime').count().iloc[:,0].values\n",
    "labels=crime.groupby('crime').count().iloc[:,0].index\n",
    "x_axis = np.arange(len(data))\n",
    "\n",
    "plt.figure(figsize=(12,6))\n",
    "plt.bar(x_axis,data, color= plt.get_cmap('Set3').colors)\n",
    "ticks= [v for v in x_axis]\n",
    "plt.xticks(ticks,labels, rotation=90)\n",
    "plt.show()"
   ]
  },
  {
   "cell_type": "code",
   "execution_count": 25,
   "metadata": {},
   "outputs": [],
   "source": [
    "# Load individual groups\n",
    "path = os.path.join('..','Resources','larceny.csv')\n",
    "g1w = pd.read_csv(path)\n",
    "g1w.drop('Unnamed: 0', axis=1, inplace=True)\n",
    "\n",
    "path = os.path.join('..','Resources','burglary.csv')\n",
    "g2w = pd.read_csv(path)\n",
    "g2w.drop('Unnamed: 0', axis=1, inplace=True)\n",
    "\n",
    "path = os.path.join('..','Resources','robbery.csv')\n",
    "g3w = pd.read_csv(path)\n",
    "g3w.drop('Unnamed: 0', axis=1, inplace=True)\n",
    "\n",
    "path = os.path.join('..','Resources','rape.csv')\n",
    "g4w = pd.read_csv(path)\n",
    "g4w.drop('Unnamed: 0', axis=1, inplace=True)\n",
    "\n",
    "path = os.path.join('..','Resources','homicide.csv')\n",
    "g5w = pd.read_csv(path)\n",
    "g5w.drop('Unnamed: 0', axis=1, inplace=True)\n"
   ]
  },
  {
   "cell_type": "code",
   "execution_count": 31,
   "metadata": {},
   "outputs": [
    {
     "data": {
      "text/html": [
       "<div>\n",
       "<style scoped>\n",
       "    .dataframe tbody tr th:only-of-type {\n",
       "        vertical-align: middle;\n",
       "    }\n",
       "\n",
       "    .dataframe tbody tr th {\n",
       "        vertical-align: top;\n",
       "    }\n",
       "\n",
       "    .dataframe thead th {\n",
       "        text-align: right;\n",
       "    }\n",
       "</style>\n",
       "<table border=\"1\" class=\"dataframe\">\n",
       "  <thead>\n",
       "    <tr style=\"text-align: right;\">\n",
       "      <th></th>\n",
       "      <th>Month</th>\n",
       "      <th>Day</th>\n",
       "      <th>Crime Count</th>\n",
       "      <th>Avg_Temp</th>\n",
       "      <th>Humidity</th>\n",
       "      <th>Precip</th>\n",
       "      <th>Wind_Speed</th>\n",
       "      <th>Conditions</th>\n",
       "    </tr>\n",
       "  </thead>\n",
       "  <tbody>\n",
       "    <tr>\n",
       "      <th>0</th>\n",
       "      <td>1</td>\n",
       "      <td>1</td>\n",
       "      <td>21</td>\n",
       "      <td>42.8</td>\n",
       "      <td>67.84</td>\n",
       "      <td>0.00</td>\n",
       "      <td>13.3</td>\n",
       "      <td>Partially cloudy</td>\n",
       "    </tr>\n",
       "    <tr>\n",
       "      <th>1</th>\n",
       "      <td>1</td>\n",
       "      <td>2</td>\n",
       "      <td>28</td>\n",
       "      <td>40.0</td>\n",
       "      <td>58.12</td>\n",
       "      <td>0.00</td>\n",
       "      <td>13.8</td>\n",
       "      <td>Partially cloudy</td>\n",
       "    </tr>\n",
       "    <tr>\n",
       "      <th>2</th>\n",
       "      <td>1</td>\n",
       "      <td>3</td>\n",
       "      <td>24</td>\n",
       "      <td>42.2</td>\n",
       "      <td>54.95</td>\n",
       "      <td>0.00</td>\n",
       "      <td>12.7</td>\n",
       "      <td>Partially cloudy</td>\n",
       "    </tr>\n",
       "    <tr>\n",
       "      <th>3</th>\n",
       "      <td>1</td>\n",
       "      <td>4</td>\n",
       "      <td>29</td>\n",
       "      <td>38.5</td>\n",
       "      <td>53.05</td>\n",
       "      <td>0.00</td>\n",
       "      <td>16.7</td>\n",
       "      <td>Clear</td>\n",
       "    </tr>\n",
       "    <tr>\n",
       "      <th>4</th>\n",
       "      <td>1</td>\n",
       "      <td>5</td>\n",
       "      <td>27</td>\n",
       "      <td>34.6</td>\n",
       "      <td>44.61</td>\n",
       "      <td>0.00</td>\n",
       "      <td>12.6</td>\n",
       "      <td>Clear</td>\n",
       "    </tr>\n",
       "    <tr>\n",
       "      <th>...</th>\n",
       "      <td>...</td>\n",
       "      <td>...</td>\n",
       "      <td>...</td>\n",
       "      <td>...</td>\n",
       "      <td>...</td>\n",
       "      <td>...</td>\n",
       "      <td>...</td>\n",
       "      <td>...</td>\n",
       "    </tr>\n",
       "    <tr>\n",
       "      <th>361</th>\n",
       "      <td>12</td>\n",
       "      <td>27</td>\n",
       "      <td>22</td>\n",
       "      <td>62.2</td>\n",
       "      <td>86.62</td>\n",
       "      <td>0.01</td>\n",
       "      <td>12.6</td>\n",
       "      <td>Rain, Overcast</td>\n",
       "    </tr>\n",
       "    <tr>\n",
       "      <th>362</th>\n",
       "      <td>12</td>\n",
       "      <td>28</td>\n",
       "      <td>30</td>\n",
       "      <td>55.9</td>\n",
       "      <td>67.24</td>\n",
       "      <td>0.00</td>\n",
       "      <td>7.5</td>\n",
       "      <td>Partially cloudy</td>\n",
       "    </tr>\n",
       "    <tr>\n",
       "      <th>363</th>\n",
       "      <td>12</td>\n",
       "      <td>29</td>\n",
       "      <td>26</td>\n",
       "      <td>56.4</td>\n",
       "      <td>54.45</td>\n",
       "      <td>0.68</td>\n",
       "      <td>26.0</td>\n",
       "      <td>Rain, Partially cloudy</td>\n",
       "    </tr>\n",
       "    <tr>\n",
       "      <th>364</th>\n",
       "      <td>12</td>\n",
       "      <td>30</td>\n",
       "      <td>23</td>\n",
       "      <td>42.5</td>\n",
       "      <td>36.00</td>\n",
       "      <td>0.00</td>\n",
       "      <td>16.1</td>\n",
       "      <td>Clear</td>\n",
       "    </tr>\n",
       "    <tr>\n",
       "      <th>365</th>\n",
       "      <td>12</td>\n",
       "      <td>31</td>\n",
       "      <td>34</td>\n",
       "      <td>39.8</td>\n",
       "      <td>60.94</td>\n",
       "      <td>0.12</td>\n",
       "      <td>8.0</td>\n",
       "      <td>Rain, Overcast</td>\n",
       "    </tr>\n",
       "  </tbody>\n",
       "</table>\n",
       "<p>366 rows × 8 columns</p>\n",
       "</div>"
      ],
      "text/plain": [
       "     Month  Day  Crime Count  Avg_Temp  Humidity  Precip  Wind_Speed  \\\n",
       "0        1    1           21      42.8     67.84    0.00        13.3   \n",
       "1        1    2           28      40.0     58.12    0.00        13.8   \n",
       "2        1    3           24      42.2     54.95    0.00        12.7   \n",
       "3        1    4           29      38.5     53.05    0.00        16.7   \n",
       "4        1    5           27      34.6     44.61    0.00        12.6   \n",
       "..     ...  ...          ...       ...       ...     ...         ...   \n",
       "361     12   27           22      62.2     86.62    0.01        12.6   \n",
       "362     12   28           30      55.9     67.24    0.00         7.5   \n",
       "363     12   29           26      56.4     54.45    0.68        26.0   \n",
       "364     12   30           23      42.5     36.00    0.00        16.1   \n",
       "365     12   31           34      39.8     60.94    0.12         8.0   \n",
       "\n",
       "                 Conditions  \n",
       "0          Partially cloudy  \n",
       "1          Partially cloudy  \n",
       "2          Partially cloudy  \n",
       "3                     Clear  \n",
       "4                     Clear  \n",
       "..                      ...  \n",
       "361          Rain, Overcast  \n",
       "362        Partially cloudy  \n",
       "363  Rain, Partially cloudy  \n",
       "364                   Clear  \n",
       "365          Rain, Overcast  \n",
       "\n",
       "[366 rows x 8 columns]"
      ]
     },
     "execution_count": 31,
     "metadata": {},
     "output_type": "execute_result"
    }
   ],
   "source": [
    "g1w"
   ]
  },
  {
   "cell_type": "code",
   "execution_count": 47,
   "metadata": {},
   "outputs": [
    {
     "data": {
      "text/plain": [
       "<matplotlib.axes._subplots.AxesSubplot at 0x7fc42f188c70>"
      ]
     },
     "execution_count": 47,
     "metadata": {},
     "output_type": "execute_result"
    },
    {
     "data": {
      "image/png": "[encoded data removed]",
      "text/plain": [
       "<Figure size 864x432 with 1 Axes>"
      ]
     },
     "metadata": {
      "needs_background": "light"
     },
     "output_type": "display_data"
    }
   ],
   "source": [
    "#For g1w Distribution\n",
    "plt.figure(figsize=(12,6))\n",
    "g1w['Crime Count'].hist(bins=30)\n",
    "#g2w['Crime Count'].hist()\n",
    "#g3w['Crime Count'].hist()\n",
    "#g4w['Crime Count'].hist()\n",
    "#g5w['Crime Count'].hist()"
   ]
  },
  {
   "cell_type": "code",
   "execution_count": 61,
   "metadata": {},
   "outputs": [
    {
     "data": {
      "text/html": [
       "<div>\n",
       "<style scoped>\n",
       "    .dataframe tbody tr th:only-of-type {\n",
       "        vertical-align: middle;\n",
       "    }\n",
       "\n",
       "    .dataframe tbody tr th {\n",
       "        vertical-align: top;\n",
       "    }\n",
       "\n",
       "    .dataframe thead th {\n",
       "        text-align: right;\n",
       "    }\n",
       "</style>\n",
       "<table border=\"1\" class=\"dataframe\">\n",
       "  <thead>\n",
       "    <tr style=\"text-align: right;\">\n",
       "      <th></th>\n",
       "      <th>Month</th>\n",
       "      <th>Day</th>\n",
       "      <th>Crime Count</th>\n",
       "      <th>Avg_Temp</th>\n",
       "      <th>Humidity</th>\n",
       "      <th>Precip</th>\n",
       "      <th>Wind_Speed</th>\n",
       "      <th>Conditions</th>\n",
       "    </tr>\n",
       "  </thead>\n",
       "  <tbody>\n",
       "    <tr>\n",
       "      <th>0</th>\n",
       "      <td>1</td>\n",
       "      <td>1</td>\n",
       "      <td>21</td>\n",
       "      <td>42.8</td>\n",
       "      <td>67.84</td>\n",
       "      <td>0.00</td>\n",
       "      <td>13.3</td>\n",
       "      <td>Partially cloudy</td>\n",
       "    </tr>\n",
       "    <tr>\n",
       "      <th>1</th>\n",
       "      <td>1</td>\n",
       "      <td>2</td>\n",
       "      <td>28</td>\n",
       "      <td>40.0</td>\n",
       "      <td>58.12</td>\n",
       "      <td>0.00</td>\n",
       "      <td>13.8</td>\n",
       "      <td>Partially cloudy</td>\n",
       "    </tr>\n",
       "    <tr>\n",
       "      <th>2</th>\n",
       "      <td>1</td>\n",
       "      <td>3</td>\n",
       "      <td>24</td>\n",
       "      <td>42.2</td>\n",
       "      <td>54.95</td>\n",
       "      <td>0.00</td>\n",
       "      <td>12.7</td>\n",
       "      <td>Partially cloudy</td>\n",
       "    </tr>\n",
       "    <tr>\n",
       "      <th>3</th>\n",
       "      <td>1</td>\n",
       "      <td>4</td>\n",
       "      <td>29</td>\n",
       "      <td>38.5</td>\n",
       "      <td>53.05</td>\n",
       "      <td>0.00</td>\n",
       "      <td>16.7</td>\n",
       "      <td>Clear</td>\n",
       "    </tr>\n",
       "    <tr>\n",
       "      <th>4</th>\n",
       "      <td>1</td>\n",
       "      <td>5</td>\n",
       "      <td>27</td>\n",
       "      <td>34.6</td>\n",
       "      <td>44.61</td>\n",
       "      <td>0.00</td>\n",
       "      <td>12.6</td>\n",
       "      <td>Clear</td>\n",
       "    </tr>\n",
       "    <tr>\n",
       "      <th>...</th>\n",
       "      <td>...</td>\n",
       "      <td>...</td>\n",
       "      <td>...</td>\n",
       "      <td>...</td>\n",
       "      <td>...</td>\n",
       "      <td>...</td>\n",
       "      <td>...</td>\n",
       "      <td>...</td>\n",
       "    </tr>\n",
       "    <tr>\n",
       "      <th>361</th>\n",
       "      <td>12</td>\n",
       "      <td>27</td>\n",
       "      <td>22</td>\n",
       "      <td>62.2</td>\n",
       "      <td>86.62</td>\n",
       "      <td>0.01</td>\n",
       "      <td>12.6</td>\n",
       "      <td>Rain, Overcast</td>\n",
       "    </tr>\n",
       "    <tr>\n",
       "      <th>362</th>\n",
       "      <td>12</td>\n",
       "      <td>28</td>\n",
       "      <td>30</td>\n",
       "      <td>55.9</td>\n",
       "      <td>67.24</td>\n",
       "      <td>0.00</td>\n",
       "      <td>7.5</td>\n",
       "      <td>Partially cloudy</td>\n",
       "    </tr>\n",
       "    <tr>\n",
       "      <th>363</th>\n",
       "      <td>12</td>\n",
       "      <td>29</td>\n",
       "      <td>26</td>\n",
       "      <td>56.4</td>\n",
       "      <td>54.45</td>\n",
       "      <td>0.68</td>\n",
       "      <td>26.0</td>\n",
       "      <td>Rain, Partially cloudy</td>\n",
       "    </tr>\n",
       "    <tr>\n",
       "      <th>364</th>\n",
       "      <td>12</td>\n",
       "      <td>30</td>\n",
       "      <td>23</td>\n",
       "      <td>42.5</td>\n",
       "      <td>36.00</td>\n",
       "      <td>0.00</td>\n",
       "      <td>16.1</td>\n",
       "      <td>Clear</td>\n",
       "    </tr>\n",
       "    <tr>\n",
       "      <th>365</th>\n",
       "      <td>12</td>\n",
       "      <td>31</td>\n",
       "      <td>34</td>\n",
       "      <td>39.8</td>\n",
       "      <td>60.94</td>\n",
       "      <td>0.12</td>\n",
       "      <td>8.0</td>\n",
       "      <td>Rain, Overcast</td>\n",
       "    </tr>\n",
       "  </tbody>\n",
       "</table>\n",
       "<p>366 rows × 8 columns</p>\n",
       "</div>"
      ],
      "text/plain": [
       "     Month  Day  Crime Count  Avg_Temp  Humidity  Precip  Wind_Speed  \\\n",
       "0        1    1           21      42.8     67.84    0.00        13.3   \n",
       "1        1    2           28      40.0     58.12    0.00        13.8   \n",
       "2        1    3           24      42.2     54.95    0.00        12.7   \n",
       "3        1    4           29      38.5     53.05    0.00        16.7   \n",
       "4        1    5           27      34.6     44.61    0.00        12.6   \n",
       "..     ...  ...          ...       ...       ...     ...         ...   \n",
       "361     12   27           22      62.2     86.62    0.01        12.6   \n",
       "362     12   28           30      55.9     67.24    0.00         7.5   \n",
       "363     12   29           26      56.4     54.45    0.68        26.0   \n",
       "364     12   30           23      42.5     36.00    0.00        16.1   \n",
       "365     12   31           34      39.8     60.94    0.12         8.0   \n",
       "\n",
       "                 Conditions  \n",
       "0          Partially cloudy  \n",
       "1          Partially cloudy  \n",
       "2          Partially cloudy  \n",
       "3                     Clear  \n",
       "4                     Clear  \n",
       "..                      ...  \n",
       "361          Rain, Overcast  \n",
       "362        Partially cloudy  \n",
       "363  Rain, Partially cloudy  \n",
       "364                   Clear  \n",
       "365          Rain, Overcast  \n",
       "\n",
       "[366 rows x 8 columns]"
      ]
     },
     "execution_count": 61,
     "metadata": {},
     "output_type": "execute_result"
    }
   ],
   "source": [
    "g1w"
   ]
  },
  {
   "cell_type": "code",
   "execution_count": 64,
   "metadata": {},
   "outputs": [
    {
     "data": {
      "text/plain": [
       "<matplotlib.axes._subplots.AxesSubplot at 0x7fc42ff1e7c0>"
      ]
     },
     "execution_count": 64,
     "metadata": {},
     "output_type": "execute_result"
    },
    {
     "data": {
      "image/png": "[encoded data removed]",
      "text/plain": [
       "<Figure size 864x432 with 1 Axes>"
      ]
     },
     "metadata": {
      "needs_background": "light"
     },
     "output_type": "display_data"
    }
   ],
   "source": [
    "#Distplots for g1w per weather variable\n",
    "plt.figure(figsize=(12,6))\n",
    "g1w['Avg_Temp'].hist(bins=30)"
   ]
  },
  {
   "cell_type": "code",
   "execution_count": 66,
   "metadata": {},
   "outputs": [
    {
     "data": {
      "text/plain": [
       "<matplotlib.axes._subplots.AxesSubplot at 0x7fc4304f21f0>"
      ]
     },
     "execution_count": 66,
     "metadata": {},
     "output_type": "execute_result"
    },
    {
     "data": {
      "image/png": "[encoded data removed]",
      "text/plain": [
       "<Figure size 864x432 with 1 Axes>"
      ]
     },
     "metadata": {
      "needs_background": "light"
     },
     "output_type": "display_data"
    }
   ],
   "source": [
    "#Distplots for g1w per weather variable\n",
    "plt.figure(figsize=(12,6))\n",
    "g1w['Humidity'].hist(bins=30)"
   ]
  },
  {
   "cell_type": "code",
   "execution_count": 67,
   "metadata": {},
   "outputs": [
    {
     "data": {
      "text/plain": [
       "<matplotlib.axes._subplots.AxesSubplot at 0x7fc430688820>"
      ]
     },
     "execution_count": 67,
     "metadata": {},
     "output_type": "execute_result"
    },
    {
     "data": {
      "image/png": "[encoded data removed]",
      "text/plain": [
       "<Figure size 864x432 with 1 Axes>"
      ]
     },
     "metadata": {
      "needs_background": "light"
     },
     "output_type": "display_data"
    }
   ],
   "source": [
    "#Distplots for g1w per weather variable\n",
    "plt.figure(figsize=(12,6))\n",
    "g1w['Precip'].hist(bins=30)"
   ]
  },
  {
   "cell_type": "code",
   "execution_count": 68,
   "metadata": {},
   "outputs": [
    {
     "data": {
      "text/plain": [
       "<matplotlib.axes._subplots.AxesSubplot at 0x7fc4310570d0>"
      ]
     },
     "execution_count": 68,
     "metadata": {},
     "output_type": "execute_result"
    },
    {
     "data": {
      "image/png": "[encoded data removed]",
      "text/plain": [
       "<Figure size 864x432 with 1 Axes>"
      ]
     },
     "metadata": {
      "needs_background": "light"
     },
     "output_type": "display_data"
    }
   ],
   "source": [
    "#Distplots for g1w per weather variable\n",
    "plt.figure(figsize=(12,6))\n",
    "g1w['Wind_Speed'].hist(bins=30)"
   ]
  },
  {
   "cell_type": "code",
   "execution_count": 73,
   "metadata": {},
   "outputs": [
    {
     "data": {
      "image/png": "[encoded data removed]",
      "text/plain": [
       "<Figure size 864x432 with 1 Axes>"
      ]
     },
     "metadata": {
      "needs_background": "light"
     },
     "output_type": "display_data"
    }
   ],
   "source": [
    "data = g5w.groupby('Conditions').count().iloc[:,0].values\n",
    "labels=g5w.groupby('Conditions').count().iloc[:,0].index\n",
    "x_axis = np.arange(len(data))\n",
    "\n",
    "plt.figure(figsize=(12,6))\n",
    "plt.bar(x_axis,data, color= plt.get_cmap('Set3').colors)\n",
    "ticks= [v for v in x_axis]\n",
    "plt.xticks(ticks,labels, rotation=90)\n",
    "plt.show()"
   ]
  },
  {
   "cell_type": "code",
   "execution_count": 74,
   "metadata": {},
   "outputs": [
    {
     "data": {
      "text/html": [
       "<div>\n",
       "<style scoped>\n",
       "    .dataframe tbody tr th:only-of-type {\n",
       "        vertical-align: middle;\n",
       "    }\n",
       "\n",
       "    .dataframe tbody tr th {\n",
       "        vertical-align: top;\n",
       "    }\n",
       "\n",
       "    .dataframe thead th {\n",
       "        text-align: right;\n",
       "    }\n",
       "</style>\n",
       "<table border=\"1\" class=\"dataframe\">\n",
       "  <thead>\n",
       "    <tr style=\"text-align: right;\">\n",
       "      <th></th>\n",
       "      <th>Month</th>\n",
       "      <th>Day</th>\n",
       "      <th>Crime Count</th>\n",
       "      <th>Avg_Temp</th>\n",
       "      <th>Humidity</th>\n",
       "      <th>Precip</th>\n",
       "      <th>Wind_Speed</th>\n",
       "      <th>Conditions</th>\n",
       "    </tr>\n",
       "  </thead>\n",
       "  <tbody>\n",
       "    <tr>\n",
       "      <th>0</th>\n",
       "      <td>1</td>\n",
       "      <td>1</td>\n",
       "      <td>21</td>\n",
       "      <td>42.8</td>\n",
       "      <td>67.84</td>\n",
       "      <td>0.00</td>\n",
       "      <td>13.3</td>\n",
       "      <td>Partially cloudy</td>\n",
       "    </tr>\n",
       "    <tr>\n",
       "      <th>1</th>\n",
       "      <td>1</td>\n",
       "      <td>2</td>\n",
       "      <td>28</td>\n",
       "      <td>40.0</td>\n",
       "      <td>58.12</td>\n",
       "      <td>0.00</td>\n",
       "      <td>13.8</td>\n",
       "      <td>Partially cloudy</td>\n",
       "    </tr>\n",
       "    <tr>\n",
       "      <th>2</th>\n",
       "      <td>1</td>\n",
       "      <td>3</td>\n",
       "      <td>24</td>\n",
       "      <td>42.2</td>\n",
       "      <td>54.95</td>\n",
       "      <td>0.00</td>\n",
       "      <td>12.7</td>\n",
       "      <td>Partially cloudy</td>\n",
       "    </tr>\n",
       "    <tr>\n",
       "      <th>3</th>\n",
       "      <td>1</td>\n",
       "      <td>4</td>\n",
       "      <td>29</td>\n",
       "      <td>38.5</td>\n",
       "      <td>53.05</td>\n",
       "      <td>0.00</td>\n",
       "      <td>16.7</td>\n",
       "      <td>Clear</td>\n",
       "    </tr>\n",
       "    <tr>\n",
       "      <th>4</th>\n",
       "      <td>1</td>\n",
       "      <td>5</td>\n",
       "      <td>27</td>\n",
       "      <td>34.6</td>\n",
       "      <td>44.61</td>\n",
       "      <td>0.00</td>\n",
       "      <td>12.6</td>\n",
       "      <td>Clear</td>\n",
       "    </tr>\n",
       "    <tr>\n",
       "      <th>...</th>\n",
       "      <td>...</td>\n",
       "      <td>...</td>\n",
       "      <td>...</td>\n",
       "      <td>...</td>\n",
       "      <td>...</td>\n",
       "      <td>...</td>\n",
       "      <td>...</td>\n",
       "      <td>...</td>\n",
       "    </tr>\n",
       "    <tr>\n",
       "      <th>361</th>\n",
       "      <td>12</td>\n",
       "      <td>27</td>\n",
       "      <td>22</td>\n",
       "      <td>62.2</td>\n",
       "      <td>86.62</td>\n",
       "      <td>0.01</td>\n",
       "      <td>12.6</td>\n",
       "      <td>Rain, Overcast</td>\n",
       "    </tr>\n",
       "    <tr>\n",
       "      <th>362</th>\n",
       "      <td>12</td>\n",
       "      <td>28</td>\n",
       "      <td>30</td>\n",
       "      <td>55.9</td>\n",
       "      <td>67.24</td>\n",
       "      <td>0.00</td>\n",
       "      <td>7.5</td>\n",
       "      <td>Partially cloudy</td>\n",
       "    </tr>\n",
       "    <tr>\n",
       "      <th>363</th>\n",
       "      <td>12</td>\n",
       "      <td>29</td>\n",
       "      <td>26</td>\n",
       "      <td>56.4</td>\n",
       "      <td>54.45</td>\n",
       "      <td>0.68</td>\n",
       "      <td>26.0</td>\n",
       "      <td>Rain, Partially cloudy</td>\n",
       "    </tr>\n",
       "    <tr>\n",
       "      <th>364</th>\n",
       "      <td>12</td>\n",
       "      <td>30</td>\n",
       "      <td>23</td>\n",
       "      <td>42.5</td>\n",
       "      <td>36.00</td>\n",
       "      <td>0.00</td>\n",
       "      <td>16.1</td>\n",
       "      <td>Clear</td>\n",
       "    </tr>\n",
       "    <tr>\n",
       "      <th>365</th>\n",
       "      <td>12</td>\n",
       "      <td>31</td>\n",
       "      <td>34</td>\n",
       "      <td>39.8</td>\n",
       "      <td>60.94</td>\n",
       "      <td>0.12</td>\n",
       "      <td>8.0</td>\n",
       "      <td>Rain, Overcast</td>\n",
       "    </tr>\n",
       "  </tbody>\n",
       "</table>\n",
       "<p>366 rows × 8 columns</p>\n",
       "</div>"
      ],
      "text/plain": [
       "     Month  Day  Crime Count  Avg_Temp  Humidity  Precip  Wind_Speed  \\\n",
       "0        1    1           21      42.8     67.84    0.00        13.3   \n",
       "1        1    2           28      40.0     58.12    0.00        13.8   \n",
       "2        1    3           24      42.2     54.95    0.00        12.7   \n",
       "3        1    4           29      38.5     53.05    0.00        16.7   \n",
       "4        1    5           27      34.6     44.61    0.00        12.6   \n",
       "..     ...  ...          ...       ...       ...     ...         ...   \n",
       "361     12   27           22      62.2     86.62    0.01        12.6   \n",
       "362     12   28           30      55.9     67.24    0.00         7.5   \n",
       "363     12   29           26      56.4     54.45    0.68        26.0   \n",
       "364     12   30           23      42.5     36.00    0.00        16.1   \n",
       "365     12   31           34      39.8     60.94    0.12         8.0   \n",
       "\n",
       "                 Conditions  \n",
       "0          Partially cloudy  \n",
       "1          Partially cloudy  \n",
       "2          Partially cloudy  \n",
       "3                     Clear  \n",
       "4                     Clear  \n",
       "..                      ...  \n",
       "361          Rain, Overcast  \n",
       "362        Partially cloudy  \n",
       "363  Rain, Partially cloudy  \n",
       "364                   Clear  \n",
       "365          Rain, Overcast  \n",
       "\n",
       "[366 rows x 8 columns]"
      ]
     },
     "execution_count": 74,
     "metadata": {},
     "output_type": "execute_result"
    }
   ],
   "source": [
    "g1w"
   ]
  },
  {
   "cell_type": "code",
   "execution_count": 80,
   "metadata": {},
   "outputs": [
    {
     "data": {
      "text/html": [
       "<div>\n",
       "<style scoped>\n",
       "    .dataframe tbody tr th:only-of-type {\n",
       "        vertical-align: middle;\n",
       "    }\n",
       "\n",
       "    .dataframe tbody tr th {\n",
       "        vertical-align: top;\n",
       "    }\n",
       "\n",
       "    .dataframe thead th {\n",
       "        text-align: right;\n",
       "    }\n",
       "</style>\n",
       "<table border=\"1\" class=\"dataframe\">\n",
       "  <thead>\n",
       "    <tr style=\"text-align: right;\">\n",
       "      <th></th>\n",
       "      <th>Month</th>\n",
       "      <th>Day</th>\n",
       "      <th>Crime Count</th>\n",
       "      <th>Avg_Temp</th>\n",
       "      <th>Humidity</th>\n",
       "      <th>Precip</th>\n",
       "      <th>Wind_Speed</th>\n",
       "    </tr>\n",
       "  </thead>\n",
       "  <tbody>\n",
       "    <tr>\n",
       "      <th>0</th>\n",
       "      <td>1</td>\n",
       "      <td>16.0</td>\n",
       "      <td>23.064516</td>\n",
       "      <td>41.451613</td>\n",
       "      <td>62.945806</td>\n",
       "      <td>0.153871</td>\n",
       "      <td>13.254839</td>\n",
       "    </tr>\n",
       "    <tr>\n",
       "      <th>1</th>\n",
       "      <td>2</td>\n",
       "      <td>15.0</td>\n",
       "      <td>24.000000</td>\n",
       "      <td>47.448276</td>\n",
       "      <td>59.418621</td>\n",
       "      <td>0.220690</td>\n",
       "      <td>15.141379</td>\n",
       "    </tr>\n",
       "    <tr>\n",
       "      <th>2</th>\n",
       "      <td>3</td>\n",
       "      <td>16.0</td>\n",
       "      <td>22.193548</td>\n",
       "      <td>59.658065</td>\n",
       "      <td>60.669677</td>\n",
       "      <td>0.060645</td>\n",
       "      <td>13.941935</td>\n",
       "    </tr>\n",
       "    <tr>\n",
       "      <th>3</th>\n",
       "      <td>4</td>\n",
       "      <td>15.5</td>\n",
       "      <td>24.333333</td>\n",
       "      <td>63.403333</td>\n",
       "      <td>57.422667</td>\n",
       "      <td>0.117333</td>\n",
       "      <td>13.870000</td>\n",
       "    </tr>\n",
       "    <tr>\n",
       "      <th>4</th>\n",
       "      <td>5</td>\n",
       "      <td>16.0</td>\n",
       "      <td>26.451613</td>\n",
       "      <td>70.093548</td>\n",
       "      <td>61.676452</td>\n",
       "      <td>0.046774</td>\n",
       "      <td>13.219355</td>\n",
       "    </tr>\n",
       "    <tr>\n",
       "      <th>5</th>\n",
       "      <td>6</td>\n",
       "      <td>15.5</td>\n",
       "      <td>25.033333</td>\n",
       "      <td>79.673333</td>\n",
       "      <td>61.754000</td>\n",
       "      <td>0.112333</td>\n",
       "      <td>12.583333</td>\n",
       "    </tr>\n",
       "    <tr>\n",
       "      <th>6</th>\n",
       "      <td>7</td>\n",
       "      <td>16.0</td>\n",
       "      <td>26.870968</td>\n",
       "      <td>81.783871</td>\n",
       "      <td>67.598710</td>\n",
       "      <td>0.108387</td>\n",
       "      <td>12.077419</td>\n",
       "    </tr>\n",
       "    <tr>\n",
       "      <th>7</th>\n",
       "      <td>8</td>\n",
       "      <td>16.0</td>\n",
       "      <td>31.032258</td>\n",
       "      <td>81.006452</td>\n",
       "      <td>72.203548</td>\n",
       "      <td>0.093548</td>\n",
       "      <td>11.129032</td>\n",
       "    </tr>\n",
       "    <tr>\n",
       "      <th>8</th>\n",
       "      <td>9</td>\n",
       "      <td>15.5</td>\n",
       "      <td>35.100000</td>\n",
       "      <td>77.220000</td>\n",
       "      <td>65.500000</td>\n",
       "      <td>0.111333</td>\n",
       "      <td>9.730000</td>\n",
       "    </tr>\n",
       "    <tr>\n",
       "      <th>9</th>\n",
       "      <td>10</td>\n",
       "      <td>16.0</td>\n",
       "      <td>33.225806</td>\n",
       "      <td>67.241935</td>\n",
       "      <td>60.941935</td>\n",
       "      <td>0.004194</td>\n",
       "      <td>11.306452</td>\n",
       "    </tr>\n",
       "    <tr>\n",
       "      <th>10</th>\n",
       "      <td>11</td>\n",
       "      <td>15.5</td>\n",
       "      <td>25.766667</td>\n",
       "      <td>57.020000</td>\n",
       "      <td>56.602000</td>\n",
       "      <td>0.090667</td>\n",
       "      <td>12.120000</td>\n",
       "    </tr>\n",
       "    <tr>\n",
       "      <th>11</th>\n",
       "      <td>12</td>\n",
       "      <td>16.0</td>\n",
       "      <td>29.967742</td>\n",
       "      <td>48.025806</td>\n",
       "      <td>67.040968</td>\n",
       "      <td>0.093871</td>\n",
       "      <td>12.103226</td>\n",
       "    </tr>\n",
       "  </tbody>\n",
       "</table>\n",
       "</div>"
      ],
      "text/plain": [
       "    Month   Day  Crime Count   Avg_Temp   Humidity    Precip  Wind_Speed\n",
       "0       1  16.0    23.064516  41.451613  62.945806  0.153871   13.254839\n",
       "1       2  15.0    24.000000  47.448276  59.418621  0.220690   15.141379\n",
       "2       3  16.0    22.193548  59.658065  60.669677  0.060645   13.941935\n",
       "3       4  15.5    24.333333  63.403333  57.422667  0.117333   13.870000\n",
       "4       5  16.0    26.451613  70.093548  61.676452  0.046774   13.219355\n",
       "5       6  15.5    25.033333  79.673333  61.754000  0.112333   12.583333\n",
       "6       7  16.0    26.870968  81.783871  67.598710  0.108387   12.077419\n",
       "7       8  16.0    31.032258  81.006452  72.203548  0.093548   11.129032\n",
       "8       9  15.5    35.100000  77.220000  65.500000  0.111333    9.730000\n",
       "9      10  16.0    33.225806  67.241935  60.941935  0.004194   11.306452\n",
       "10     11  15.5    25.766667  57.020000  56.602000  0.090667   12.120000\n",
       "11     12  16.0    29.967742  48.025806  67.040968  0.093871   12.103226"
      ]
     },
     "execution_count": 80,
     "metadata": {},
     "output_type": "execute_result"
    }
   ],
   "source": [
    "test = g1w.groupby('Month').mean()\n",
    "test.reset_index(inplace=True)\n",
    "test"
   ]
  },
  {
   "cell_type": "code",
   "execution_count": 88,
   "metadata": {},
   "outputs": [
    {
     "data": {
      "text/plain": [
       "<matplotlib.legend.Legend at 0x7fc42f529a90>"
      ]
     },
     "execution_count": 88,
     "metadata": {},
     "output_type": "execute_result"
    },
    {
     "data": {
      "image/png": "[encoded data removed]",
      "text/plain": [
       "<Figure size 432x288 with 1 Axes>"
      ]
     },
     "metadata": {
      "needs_background": "light"
     },
     "output_type": "display_data"
    }
   ],
   "source": [
    "plt.scatter(test['Month'],test['Avg_Temp'], label='temp')\n",
    "plt.scatter(test['Month'],test['Humidity'], label='hum')\n",
    "plt.scatter(test['Month'],test['Precip'], label='precip')\n",
    "plt.scatter(test['Month'],test['Wind_Speed'], label='wind')\n",
    "plt.scatter(test['Month'],test['Crime Count'], label='crime')\n",
    "plt.legend()"
   ]
  },
  {
   "cell_type": "code",
   "execution_count": 87,
   "metadata": {},
   "outputs": [
    {
     "data": {
      "text/html": [
       "<div>\n",
       "<style scoped>\n",
       "    .dataframe tbody tr th:only-of-type {\n",
       "        vertical-align: middle;\n",
       "    }\n",
       "\n",
       "    .dataframe tbody tr th {\n",
       "        vertical-align: top;\n",
       "    }\n",
       "\n",
       "    .dataframe thead th {\n",
       "        text-align: right;\n",
       "    }\n",
       "</style>\n",
       "<table border=\"1\" class=\"dataframe\">\n",
       "  <thead>\n",
       "    <tr style=\"text-align: right;\">\n",
       "      <th></th>\n",
       "      <th>Month</th>\n",
       "      <th>Day</th>\n",
       "      <th>Crime Count</th>\n",
       "      <th>Avg_Temp</th>\n",
       "      <th>Humidity</th>\n",
       "      <th>Precip</th>\n",
       "      <th>Wind_Speed</th>\n",
       "      <th>Conditions</th>\n",
       "    </tr>\n",
       "  </thead>\n",
       "  <tbody>\n",
       "    <tr>\n",
       "      <th>0</th>\n",
       "      <td>1</td>\n",
       "      <td>1</td>\n",
       "      <td>21</td>\n",
       "      <td>42.8</td>\n",
       "      <td>67.84</td>\n",
       "      <td>0.00</td>\n",
       "      <td>13.3</td>\n",
       "      <td>Partially cloudy</td>\n",
       "    </tr>\n",
       "    <tr>\n",
       "      <th>1</th>\n",
       "      <td>1</td>\n",
       "      <td>2</td>\n",
       "      <td>28</td>\n",
       "      <td>40.0</td>\n",
       "      <td>58.12</td>\n",
       "      <td>0.00</td>\n",
       "      <td>13.8</td>\n",
       "      <td>Partially cloudy</td>\n",
       "    </tr>\n",
       "    <tr>\n",
       "      <th>2</th>\n",
       "      <td>1</td>\n",
       "      <td>3</td>\n",
       "      <td>24</td>\n",
       "      <td>42.2</td>\n",
       "      <td>54.95</td>\n",
       "      <td>0.00</td>\n",
       "      <td>12.7</td>\n",
       "      <td>Partially cloudy</td>\n",
       "    </tr>\n",
       "    <tr>\n",
       "      <th>3</th>\n",
       "      <td>1</td>\n",
       "      <td>4</td>\n",
       "      <td>29</td>\n",
       "      <td>38.5</td>\n",
       "      <td>53.05</td>\n",
       "      <td>0.00</td>\n",
       "      <td>16.7</td>\n",
       "      <td>Clear</td>\n",
       "    </tr>\n",
       "    <tr>\n",
       "      <th>4</th>\n",
       "      <td>1</td>\n",
       "      <td>5</td>\n",
       "      <td>27</td>\n",
       "      <td>34.6</td>\n",
       "      <td>44.61</td>\n",
       "      <td>0.00</td>\n",
       "      <td>12.6</td>\n",
       "      <td>Clear</td>\n",
       "    </tr>\n",
       "    <tr>\n",
       "      <th>...</th>\n",
       "      <td>...</td>\n",
       "      <td>...</td>\n",
       "      <td>...</td>\n",
       "      <td>...</td>\n",
       "      <td>...</td>\n",
       "      <td>...</td>\n",
       "      <td>...</td>\n",
       "      <td>...</td>\n",
       "    </tr>\n",
       "    <tr>\n",
       "      <th>361</th>\n",
       "      <td>12</td>\n",
       "      <td>27</td>\n",
       "      <td>22</td>\n",
       "      <td>62.2</td>\n",
       "      <td>86.62</td>\n",
       "      <td>0.01</td>\n",
       "      <td>12.6</td>\n",
       "      <td>Rain, Overcast</td>\n",
       "    </tr>\n",
       "    <tr>\n",
       "      <th>362</th>\n",
       "      <td>12</td>\n",
       "      <td>28</td>\n",
       "      <td>30</td>\n",
       "      <td>55.9</td>\n",
       "      <td>67.24</td>\n",
       "      <td>0.00</td>\n",
       "      <td>7.5</td>\n",
       "      <td>Partially cloudy</td>\n",
       "    </tr>\n",
       "    <tr>\n",
       "      <th>363</th>\n",
       "      <td>12</td>\n",
       "      <td>29</td>\n",
       "      <td>26</td>\n",
       "      <td>56.4</td>\n",
       "      <td>54.45</td>\n",
       "      <td>0.68</td>\n",
       "      <td>26.0</td>\n",
       "      <td>Rain, Partially cloudy</td>\n",
       "    </tr>\n",
       "    <tr>\n",
       "      <th>364</th>\n",
       "      <td>12</td>\n",
       "      <td>30</td>\n",
       "      <td>23</td>\n",
       "      <td>42.5</td>\n",
       "      <td>36.00</td>\n",
       "      <td>0.00</td>\n",
       "      <td>16.1</td>\n",
       "      <td>Clear</td>\n",
       "    </tr>\n",
       "    <tr>\n",
       "      <th>365</th>\n",
       "      <td>12</td>\n",
       "      <td>31</td>\n",
       "      <td>34</td>\n",
       "      <td>39.8</td>\n",
       "      <td>60.94</td>\n",
       "      <td>0.12</td>\n",
       "      <td>8.0</td>\n",
       "      <td>Rain, Overcast</td>\n",
       "    </tr>\n",
       "  </tbody>\n",
       "</table>\n",
       "<p>366 rows × 8 columns</p>\n",
       "</div>"
      ],
      "text/plain": [
       "     Month  Day  Crime Count  Avg_Temp  Humidity  Precip  Wind_Speed  \\\n",
       "0        1    1           21      42.8     67.84    0.00        13.3   \n",
       "1        1    2           28      40.0     58.12    0.00        13.8   \n",
       "2        1    3           24      42.2     54.95    0.00        12.7   \n",
       "3        1    4           29      38.5     53.05    0.00        16.7   \n",
       "4        1    5           27      34.6     44.61    0.00        12.6   \n",
       "..     ...  ...          ...       ...       ...     ...         ...   \n",
       "361     12   27           22      62.2     86.62    0.01        12.6   \n",
       "362     12   28           30      55.9     67.24    0.00         7.5   \n",
       "363     12   29           26      56.4     54.45    0.68        26.0   \n",
       "364     12   30           23      42.5     36.00    0.00        16.1   \n",
       "365     12   31           34      39.8     60.94    0.12         8.0   \n",
       "\n",
       "                 Conditions  \n",
       "0          Partially cloudy  \n",
       "1          Partially cloudy  \n",
       "2          Partially cloudy  \n",
       "3                     Clear  \n",
       "4                     Clear  \n",
       "..                      ...  \n",
       "361          Rain, Overcast  \n",
       "362        Partially cloudy  \n",
       "363  Rain, Partially cloudy  \n",
       "364                   Clear  \n",
       "365          Rain, Overcast  \n",
       "\n",
       "[366 rows x 8 columns]"
      ]
     },
     "execution_count": 87,
     "metadata": {},
     "output_type": "execute_result"
    }
   ],
   "source": [
    "g1w"
   ]
  },
  {
   "cell_type": "code",
   "execution_count": 90,
   "metadata": {},
   "outputs": [
    {
     "name": "stdout",
     "output_type": "stream",
     "text": [
      "The correlation coeficient r is: -0.12476937685579438\n"
     ]
    },
    {
     "data": {
      "image/png": "[encoded data removed]",
      "text/plain": [
       "<Figure size 432x288 with 1 Axes>"
      ]
     },
     "metadata": {
      "needs_background": "light"
     },
     "output_type": "display_data"
    }
   ],
   "source": [
    "plt.scatter(g1w['Crime Count'],g1w['Avg_Temp'])\n",
    "print(\"The correlation coeficient r is: \"+str(sts.pearsonr(g1w['Crime Count'],g1w['Wind_Speed'])[0]))"
   ]
  },
  {
   "cell_type": "code",
   "execution_count": 91,
   "metadata": {},
   "outputs": [
    {
     "name": "stdout",
     "output_type": "stream",
     "text": [
      "The correlation coeficient r is: 0.10856448913289055\n"
     ]
    },
    {
     "data": {
      "image/png": "[encoded data removed]",
      "text/plain": [
       "<Figure size 432x288 with 1 Axes>"
      ]
     },
     "metadata": {
      "needs_background": "light"
     },
     "output_type": "display_data"
    }
   ],
   "source": [
    "plt.scatter(g1w['Crime Count'],g1w['Humidity'])\n",
    "print(\"The correlation coeficient r is: \"+str(sts.pearsonr(g1w['Crime Count'],g1w['Humidity'])[0]))"
   ]
  },
  {
   "cell_type": "code",
   "execution_count": 92,
   "metadata": {},
   "outputs": [
    {
     "name": "stdout",
     "output_type": "stream",
     "text": [
      "The correlation coeficient r is: -0.06356737172401244\n"
     ]
    },
    {
     "data": {
      "image/png": "[encoded data removed]",
      "text/plain": [
       "<Figure size 432x288 with 1 Axes>"
      ]
     },
     "metadata": {
      "needs_background": "light"
     },
     "output_type": "display_data"
    }
   ],
   "source": [
    "plt.scatter(g1w['Crime Count'],g1w['Precip'])\n",
    "print(\"The correlation coeficient r is: \"+str(sts.pearsonr(g1w['Crime Count'],g1w['Precip'])[0]))"
   ]
  },
  {
   "cell_type": "code",
   "execution_count": 93,
   "metadata": {},
   "outputs": [
    {
     "name": "stdout",
     "output_type": "stream",
     "text": [
      "The correlation coeficient r is: -0.12476937685579438\n"
     ]
    },
    {
     "data": {
      "image/png": "[encoded data removed]",
      "text/plain": [
       "<Figure size 432x288 with 1 Axes>"
      ]
     },
     "metadata": {
      "needs_background": "light"
     },
     "output_type": "display_data"
    }
   ],
   "source": [
    "plt.scatter(g1w['Crime Count'],g1w['Wind_Speed'])\n",
    "print(\"The correlation coeficient r is: \"+str(sts.pearsonr(g1w['Crime Count'],g1w['Wind_Speed'])[0]))"
   ]
  },
  {
   "cell_type": "code",
   "execution_count": null,
   "metadata": {},
   "outputs": [],
   "source": []
  }
 ],
 "metadata": {
  "kernelspec": {
   "display_name": "Python 3",
   "language": "python",
   "name": "python3"
  },
  "language_info": {
   "codemirror_mode": {
    "name": "ipython",
    "version": 3
   },
   "file_extension": ".py",
   "mimetype": "text/x-python",
   "name": "python",
   "nbconvert_exporter": "python",
   "pygments_lexer": "ipython3",
   "version": "3.8.3"
  }
 },
 "nbformat": 4,
 "nbformat_minor": 4
}
